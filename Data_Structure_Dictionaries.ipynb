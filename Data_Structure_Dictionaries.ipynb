{
 "cells": [
  {
   "cell_type": "code",
   "execution_count": 2,
   "id": "e4a5eb3d",
   "metadata": {},
   "outputs": [
    {
     "data": {
      "text/plain": [
       "23"
      ]
     },
     "execution_count": 2,
     "metadata": {},
     "output_type": "execute_result"
    }
   ],
   "source": [
    "word_freq = {'love': 25, 'conversation': 1, 'every': 6, \"we're\": 1, 'plate': 1, 'sour': 1, 'jukebox': 1, 'now': 11, 'taxi': 1, 'fast': 1, 'bag': 1, 'man': 1, 'push': 3, 'baby': 14, 'going': 1, 'you': 16, \"don't\": 2, 'one': 1, 'mind': 2, 'backseat': 1, 'friends': 1, 'then': 3, 'know': 2}\n",
    "\n",
    "\n",
    "len(word_freq)"
   ]
  },
  {
   "cell_type": "code",
   "execution_count": 3,
   "id": "9cb15341",
   "metadata": {},
   "outputs": [
    {
     "data": {
      "text/plain": [
       "dict_keys(['love', 'conversation', 'every', \"we're\", 'plate', 'sour', 'jukebox', 'now', 'taxi', 'fast', 'bag', 'man', 'push', 'baby', 'going', 'you', \"don't\", 'one', 'mind', 'backseat', 'friends', 'then', 'know'])"
      ]
     },
     "execution_count": 3,
     "metadata": {},
     "output_type": "execute_result"
    }
   ],
   "source": [
    "word_freq.keys()"
   ]
  },
  {
   "cell_type": "code",
   "execution_count": 5,
   "id": "5eb3b059",
   "metadata": {},
   "outputs": [
    {
     "data": {
      "text/plain": [
       "1"
      ]
     },
     "execution_count": 5,
     "metadata": {},
     "output_type": "execute_result"
    }
   ],
   "source": [
    "word_freq['friends']"
   ]
  },
  {
   "cell_type": "code",
   "execution_count": 6,
   "id": "7c572a50",
   "metadata": {},
   "outputs": [
    {
     "data": {
      "text/plain": [
       "1"
      ]
     },
     "execution_count": 6,
     "metadata": {},
     "output_type": "execute_result"
    }
   ],
   "source": [
    "word_freq['taxi']"
   ]
  },
  {
   "cell_type": "code",
   "execution_count": 7,
   "id": "259a3a9a",
   "metadata": {},
   "outputs": [
    {
     "data": {
      "text/plain": [
       "1"
      ]
     },
     "execution_count": 7,
     "metadata": {},
     "output_type": "execute_result"
    }
   ],
   "source": [
    "word_freq['jukebox']"
   ]
  },
  {
   "cell_type": "code",
   "execution_count": 8,
   "id": "adb32dad",
   "metadata": {},
   "outputs": [
    {
     "ename": "KeyError",
     "evalue": "'begin'",
     "output_type": "error",
     "traceback": [
      "\u001b[1;31m---------------------------------------------------------------------------\u001b[0m",
      "\u001b[1;31mKeyError\u001b[0m                                  Traceback (most recent call last)",
      "\u001b[1;32m<ipython-input-8-20b1011d6422>\u001b[0m in \u001b[0;36m<module>\u001b[1;34m\u001b[0m\n\u001b[1;32m----> 1\u001b[1;33m \u001b[0mword_freq\u001b[0m\u001b[1;33m[\u001b[0m\u001b[1;34m'begin'\u001b[0m\u001b[1;33m]\u001b[0m\u001b[1;33m\u001b[0m\u001b[1;33m\u001b[0m\u001b[0m\n\u001b[0m",
      "\u001b[1;31mKeyError\u001b[0m: 'begin'"
     ]
    }
   ],
   "source": [
    "word_freq['begin']"
   ]
  },
  {
   "cell_type": "code",
   "execution_count": 9,
   "id": "6117cd41",
   "metadata": {},
   "outputs": [],
   "source": [
    "word_freq['begin'] = 1\n",
    "word_freq['start'] = 2\n",
    "word_freq['over'] = 1\n",
    "word_freq['body'] = 17"
   ]
  },
  {
   "cell_type": "code",
   "execution_count": 10,
   "id": "a390c545",
   "metadata": {},
   "outputs": [
    {
     "name": "stdout",
     "output_type": "stream",
     "text": [
      "{'love': 25, 'conversation': 1, 'every': 6, \"we're\": 1, 'plate': 1, 'sour': 1, 'jukebox': 1, 'now': 11, 'taxi': 1, 'fast': 1, 'bag': 1, 'man': 1, 'push': 3, 'baby': 14, 'going': 1, 'you': 16, \"don't\": 2, 'one': 1, 'mind': 2, 'backseat': 1, 'friends': 1, 'then': 3, 'know': 2, 'begin': 1, 'start': 2, 'over': 1, 'body': 17}\n"
     ]
    }
   ],
   "source": [
    "print(word_freq)"
   ]
  },
  {
   "cell_type": "code",
   "execution_count": 11,
   "id": "01e877a1",
   "metadata": {},
   "outputs": [
    {
     "data": {
      "text/plain": [
       "25"
      ]
     },
     "execution_count": 11,
     "metadata": {},
     "output_type": "execute_result"
    }
   ],
   "source": [
    "words = list(word_freq.keys())\n",
    "words[0]\n",
    "word_freq[words[0]]"
   ]
  },
  {
   "cell_type": "code",
   "execution_count": 12,
   "id": "b6210a1f",
   "metadata": {},
   "outputs": [
    {
     "data": {
      "text/plain": [
       "17"
      ]
     },
     "execution_count": 12,
     "metadata": {},
     "output_type": "execute_result"
    }
   ],
   "source": [
    "words[len(words)-1] # Last word in the dictionary\n",
    "word_freq[words[len(words)-1]]"
   ]
  },
  {
   "cell_type": "code",
   "execution_count": null,
   "id": "f8742071",
   "metadata": {},
   "outputs": [],
   "source": [
    "#1.2 Can a dictionary have two key-value pairs with the same key?--> No"
   ]
  },
  {
   "cell_type": "code",
   "execution_count": null,
   "id": "d0f4a9de",
   "metadata": {},
   "outputs": [],
   "source": [
    "#.3 Can a dictionary have two key-value pairs with the same value but different keys?--> Yes"
   ]
  }
 ],
 "metadata": {
  "kernelspec": {
   "display_name": "Python 3",
   "language": "python",
   "name": "python3"
  },
  "language_info": {
   "codemirror_mode": {
    "name": "ipython",
    "version": 3
   },
   "file_extension": ".py",
   "mimetype": "text/x-python",
   "name": "python",
   "nbconvert_exporter": "python",
   "pygments_lexer": "ipython3",
   "version": "3.8.8"
  }
 },
 "nbformat": 4,
 "nbformat_minor": 5
}
